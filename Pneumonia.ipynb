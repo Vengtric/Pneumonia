{
 "cells": [
  {
   "cell_type": "code",
   "execution_count": 1,
   "id": "27b5d87f",
   "metadata": {},
   "outputs": [
    {
     "name": "stdout",
     "output_type": "stream",
     "text": [
      "Found 4192 images belonging to 2 classes.\n",
      "Found 1040 images belonging to 2 classes.\n",
      "Epoch 1/10\n",
      "131/131 [==============================] - 99s 753ms/step - loss: 0.3398 - accuracy: 0.8547 - val_loss: 0.2002 - val_accuracy: 0.9288\n",
      "Epoch 2/10\n",
      "131/131 [==============================] - 75s 574ms/step - loss: 0.2537 - accuracy: 0.9008 - val_loss: 0.2326 - val_accuracy: 0.8990\n",
      "Epoch 3/10\n",
      "131/131 [==============================] - 75s 572ms/step - loss: 0.2086 - accuracy: 0.9160 - val_loss: 0.1342 - val_accuracy: 0.9538\n",
      "Epoch 4/10\n",
      "131/131 [==============================] - 75s 569ms/step - loss: 0.1677 - accuracy: 0.9325 - val_loss: 0.1255 - val_accuracy: 0.9558\n",
      "Epoch 5/10\n",
      "131/131 [==============================] - 74s 568ms/step - loss: 0.1537 - accuracy: 0.9399 - val_loss: 0.1319 - val_accuracy: 0.9481\n",
      "Epoch 6/10\n",
      "131/131 [==============================] - 76s 582ms/step - loss: 0.1413 - accuracy: 0.9447 - val_loss: 0.1321 - val_accuracy: 0.9452\n",
      "Epoch 7/10\n",
      "131/131 [==============================] - 78s 592ms/step - loss: 0.1513 - accuracy: 0.9416 - val_loss: 0.1460 - val_accuracy: 0.9529\n",
      "Epoch 8/10\n",
      "131/131 [==============================] - 74s 564ms/step - loss: 0.1265 - accuracy: 0.9535 - val_loss: 0.1208 - val_accuracy: 0.9567\n",
      "Epoch 9/10\n",
      "131/131 [==============================] - 73s 558ms/step - loss: 0.1328 - accuracy: 0.9475 - val_loss: 0.1216 - val_accuracy: 0.9558\n",
      "Epoch 10/10\n",
      "131/131 [==============================] - 73s 558ms/step - loss: 0.1341 - accuracy: 0.9442 - val_loss: 0.1390 - val_accuracy: 0.9529\n",
      "Found 624 images belonging to 2 classes.\n",
      "20/20 [==============================] - 7s 337ms/step - loss: 0.4605 - accuracy: 0.8558\n",
      "Test Accuracy: 0.8557692170143127\n"
     ]
    }
   ],
   "source": [
    "import tensorflow as tf\n",
    "from tensorflow.keras.preprocessing.image import ImageDataGenerator\n",
    "from tensorflow.keras.models import Sequential\n",
    "from tensorflow.keras.layers import Conv2D, MaxPooling2D, Flatten, Dense\n",
    "\n",
    "# Define paths to the train, validation, and test directories\n",
    "train_dir = r'C:\\Users\\Karthik\\Desktop\\Projects for fun\\Kaggle datasets\\Pneumonia\\archive\\train'\n",
    "validation_dir = r'C:\\Users\\Karthik\\Desktop\\Projects for fun\\Kaggle datasets\\Pneumonia\\archive\\val'\n",
    "test_dir = r'C:\\Users\\Karthik\\Desktop\\Projects for fun\\Kaggle datasets\\Pneumonia\\archive\\test'\n",
    "\n",
    "# Data preprocessing and augmentation\n",
    "train_datagen = ImageDataGenerator(rescale=1./255, shear_range=0.2, zoom_range=0.2, horizontal_flip=True)\n",
    "validation_datagen = ImageDataGenerator(rescale=1./255)\n",
    "\n",
    "# Flow training images in batches using the generators\n",
    "train_generator = train_datagen.flow_from_directory(train_dir, target_size=(150, 150), batch_size=32, class_mode='binary')\n",
    "validation_generator = validation_datagen.flow_from_directory(validation_dir, target_size=(150, 150), batch_size=32, class_mode='binary')\n",
    "\n",
    "# Build the CNN model\n",
    "model = Sequential()\n",
    "model.add(Conv2D(32, (3, 3), input_shape=(150, 150, 3), activation='relu'))\n",
    "model.add(MaxPooling2D(pool_size=(2, 2)))\n",
    "model.add(Conv2D(64, (3, 3), activation='relu'))\n",
    "model.add(MaxPooling2D(pool_size=(2, 2)))\n",
    "model.add(Conv2D(128, (3, 3), activation='relu'))\n",
    "model.add(MaxPooling2D(pool_size=(2, 2)))\n",
    "model.add(Flatten())\n",
    "model.add(Dense(128, activation='relu'))\n",
    "model.add(Dense(1, activation='sigmoid'))\n",
    "\n",
    "# Compile the model\n",
    "model.compile(optimizer='adam', loss='binary_crossentropy', metrics=['accuracy'])\n",
    "\n",
    "# Train the model\n",
    "history = model.fit(train_generator, epochs=10, validation_data=validation_generator)\n",
    "\n",
    "# Evaluate the model on the test set\n",
    "test_generator = validation_datagen.flow_from_directory(test_dir, target_size=(150, 150), batch_size=32, class_mode='binary')\n",
    "test_loss, test_acc = model.evaluate(test_generator)\n",
    "print(f'Test Accuracy: {test_acc}')\n"
   ]
  },
  {
   "cell_type": "code",
   "execution_count": null,
   "id": "f8817404",
   "metadata": {},
   "outputs": [],
   "source": []
  }
 ],
 "metadata": {
  "kernelspec": {
   "display_name": "Python 3 (ipykernel)",
   "language": "python",
   "name": "python3"
  },
  "language_info": {
   "codemirror_mode": {
    "name": "ipython",
    "version": 3
   },
   "file_extension": ".py",
   "mimetype": "text/x-python",
   "name": "python",
   "nbconvert_exporter": "python",
   "pygments_lexer": "ipython3",
   "version": "3.9.13"
  }
 },
 "nbformat": 4,
 "nbformat_minor": 5
}
